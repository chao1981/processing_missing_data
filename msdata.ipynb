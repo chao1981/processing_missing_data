{
 "cells": [
  {
   "cell_type": "code",
   "execution_count": 2,
   "metadata": {
    "collapsed": true
   },
   "outputs": [],
   "source": [
    "import pandas as pd\n",
    "import numpy as np\n",
    "import matplotlib.pyplot as plt"
   ]
  },
  {
   "cell_type": "code",
   "execution_count": 3,
   "metadata": {
    "collapsed": true
   },
   "outputs": [],
   "source": [
    "df = pd.read_excel(\"totalNPdata.xlsx\",  header=None)"
   ]
  },
  {
   "cell_type": "code",
   "execution_count": 4,
   "metadata": {},
   "outputs": [
    {
     "data": {
      "text/html": [
       "<div>\n",
       "<style>\n",
       "    .dataframe thead tr:only-child th {\n",
       "        text-align: right;\n",
       "    }\n",
       "\n",
       "    .dataframe thead th {\n",
       "        text-align: left;\n",
       "    }\n",
       "\n",
       "    .dataframe tbody tr th {\n",
       "        vertical-align: top;\n",
       "    }\n",
       "</style>\n",
       "<table border=\"1\" class=\"dataframe\">\n",
       "  <thead>\n",
       "    <tr style=\"text-align: right;\">\n",
       "      <th></th>\n",
       "      <th>0</th>\n",
       "      <th>1</th>\n",
       "      <th>2</th>\n",
       "      <th>3</th>\n",
       "      <th>4</th>\n",
       "      <th>5</th>\n",
       "      <th>6</th>\n",
       "      <th>7</th>\n",
       "      <th>8</th>\n",
       "      <th>9</th>\n",
       "      <th>...</th>\n",
       "      <th>14</th>\n",
       "      <th>15</th>\n",
       "      <th>16</th>\n",
       "      <th>17</th>\n",
       "      <th>18</th>\n",
       "      <th>19</th>\n",
       "      <th>20</th>\n",
       "      <th>21</th>\n",
       "      <th>22</th>\n",
       "      <th>23</th>\n",
       "    </tr>\n",
       "  </thead>\n",
       "  <tbody>\n",
       "    <tr>\n",
       "      <th>0</th>\n",
       "      <td>0</td>\n",
       "      <td>26</td>\n",
       "      <td>66</td>\n",
       "      <td>180</td>\n",
       "      <td>64.00</td>\n",
       "      <td>125.75</td>\n",
       "      <td>16.25</td>\n",
       "      <td>1.13</td>\n",
       "      <td>0.90</td>\n",
       "      <td>653.33</td>\n",
       "      <td>...</td>\n",
       "      <td>25.5</td>\n",
       "      <td>1.21</td>\n",
       "      <td>0.95</td>\n",
       "      <td>670.0</td>\n",
       "      <td>390.0</td>\n",
       "      <td>105.0</td>\n",
       "      <td>1082.5</td>\n",
       "      <td>225.0</td>\n",
       "      <td>61.5</td>\n",
       "      <td>66.0</td>\n",
       "    </tr>\n",
       "    <tr>\n",
       "      <th>1</th>\n",
       "      <td>0</td>\n",
       "      <td>26</td>\n",
       "      <td>66</td>\n",
       "      <td>180</td>\n",
       "      <td>67.25</td>\n",
       "      <td>131.75</td>\n",
       "      <td>10.75</td>\n",
       "      <td>1.45</td>\n",
       "      <td>1.10</td>\n",
       "      <td>546.67</td>\n",
       "      <td>...</td>\n",
       "      <td>33.5</td>\n",
       "      <td>1.36</td>\n",
       "      <td>0.98</td>\n",
       "      <td>605.0</td>\n",
       "      <td>400.0</td>\n",
       "      <td>100.0</td>\n",
       "      <td>965.0</td>\n",
       "      <td>210.0</td>\n",
       "      <td>64.5</td>\n",
       "      <td>59.0</td>\n",
       "    </tr>\n",
       "    <tr>\n",
       "      <th>2</th>\n",
       "      <td>0</td>\n",
       "      <td>26</td>\n",
       "      <td>66</td>\n",
       "      <td>180</td>\n",
       "      <td>70.00</td>\n",
       "      <td>129.75</td>\n",
       "      <td>17.00</td>\n",
       "      <td>1.34</td>\n",
       "      <td>1.04</td>\n",
       "      <td>563.33</td>\n",
       "      <td>...</td>\n",
       "      <td>24.5</td>\n",
       "      <td>1.41</td>\n",
       "      <td>1.00</td>\n",
       "      <td>610.0</td>\n",
       "      <td>390.0</td>\n",
       "      <td>95.0</td>\n",
       "      <td>982.5</td>\n",
       "      <td>195.0</td>\n",
       "      <td>66.0</td>\n",
       "      <td>57.0</td>\n",
       "    </tr>\n",
       "    <tr>\n",
       "      <th>3</th>\n",
       "      <td>0</td>\n",
       "      <td>26</td>\n",
       "      <td>66</td>\n",
       "      <td>180</td>\n",
       "      <td>62.50</td>\n",
       "      <td>125.50</td>\n",
       "      <td>15.50</td>\n",
       "      <td>1.10</td>\n",
       "      <td>0.87</td>\n",
       "      <td>726.67</td>\n",
       "      <td>...</td>\n",
       "      <td>35.5</td>\n",
       "      <td>1.13</td>\n",
       "      <td>0.89</td>\n",
       "      <td>690.0</td>\n",
       "      <td>410.0</td>\n",
       "      <td>120.0</td>\n",
       "      <td>1132.5</td>\n",
       "      <td>250.0</td>\n",
       "      <td>79.0</td>\n",
       "      <td>80.5</td>\n",
       "    </tr>\n",
       "    <tr>\n",
       "      <th>4</th>\n",
       "      <td>0</td>\n",
       "      <td>26</td>\n",
       "      <td>66</td>\n",
       "      <td>180</td>\n",
       "      <td>61.75</td>\n",
       "      <td>122.50</td>\n",
       "      <td>13.50</td>\n",
       "      <td>0.94</td>\n",
       "      <td>0.76</td>\n",
       "      <td>830.00</td>\n",
       "      <td>...</td>\n",
       "      <td>25.5</td>\n",
       "      <td>0.98</td>\n",
       "      <td>0.79</td>\n",
       "      <td>805.0</td>\n",
       "      <td>470.0</td>\n",
       "      <td>150.0</td>\n",
       "      <td>1290.0</td>\n",
       "      <td>335.0</td>\n",
       "      <td>77.5</td>\n",
       "      <td>69.5</td>\n",
       "    </tr>\n",
       "  </tbody>\n",
       "</table>\n",
       "<p>5 rows × 24 columns</p>\n",
       "</div>"
      ],
      "text/plain": [
       "   0   1   2    3      4       5      6     7     8       9   ...     14  \\\n",
       "0   0  26  66  180  64.00  125.75  16.25  1.13  0.90  653.33  ...   25.5   \n",
       "1   0  26  66  180  67.25  131.75  10.75  1.45  1.10  546.67  ...   33.5   \n",
       "2   0  26  66  180  70.00  129.75  17.00  1.34  1.04  563.33  ...   24.5   \n",
       "3   0  26  66  180  62.50  125.50  15.50  1.10  0.87  726.67  ...   35.5   \n",
       "4   0  26  66  180  61.75  122.50  13.50  0.94  0.76  830.00  ...   25.5   \n",
       "\n",
       "     15    16     17     18     19      20     21    22    23  \n",
       "0  1.21  0.95  670.0  390.0  105.0  1082.5  225.0  61.5  66.0  \n",
       "1  1.36  0.98  605.0  400.0  100.0   965.0  210.0  64.5  59.0  \n",
       "2  1.41  1.00  610.0  390.0   95.0   982.5  195.0  66.0  57.0  \n",
       "3  1.13  0.89  690.0  410.0  120.0  1132.5  250.0  79.0  80.5  \n",
       "4  0.98  0.79  805.0  470.0  150.0  1290.0  335.0  77.5  69.5  \n",
       "\n",
       "[5 rows x 24 columns]"
      ]
     },
     "execution_count": 4,
     "metadata": {},
     "output_type": "execute_result"
    }
   ],
   "source": [
    "df.head()"
   ]
  },
  {
   "cell_type": "code",
   "execution_count": 5,
   "metadata": {},
   "outputs": [
    {
     "data": {
      "text/plain": [
       "218"
      ]
     },
     "execution_count": 5,
     "metadata": {},
     "output_type": "execute_result"
    }
   ],
   "source": [
    "df.shape[0]"
   ]
  },
  {
   "cell_type": "code",
   "execution_count": 6,
   "metadata": {
    "collapsed": true
   },
   "outputs": [],
   "source": [
    "index = list(range(df.shape[0]))\n"
   ]
  },
  {
   "cell_type": "code",
   "execution_count": 7,
   "metadata": {},
   "outputs": [
    {
     "data": {
      "text/plain": [
       "128    10.00\n",
       "129    14.50\n",
       "53     10.25\n",
       "134    13.25\n",
       "68     10.00\n",
       "180    20.50\n",
       "150    25.50\n",
       "165     9.25\n",
       "71     16.00\n",
       "125    11.00\n",
       "Name: 6, dtype: float64"
      ]
     },
     "execution_count": 7,
     "metadata": {},
     "output_type": "execute_result"
    }
   ],
   "source": [
    "import random\n",
    "random.shuffle(index)\n",
    "miss_index = index[:10]\n",
    "attr = 6#步速\n",
    "true_value = df.iloc[miss_index, attr]\n",
    "true_value"
   ]
  },
  {
   "cell_type": "code",
   "execution_count": 8,
   "metadata": {
    "collapsed": true
   },
   "outputs": [],
   "source": [
    "df.iloc[miss_index, attr] = np.nan"
   ]
  },
  {
   "cell_type": "code",
   "execution_count": 9,
   "metadata": {},
   "outputs": [
    {
     "name": "stdout",
     "output_type": "stream",
     "text": [
      "3513.2200000000003\n",
      "16.89048076923077\n"
     ]
    }
   ],
   "source": [
    "print(np.sum(df[attr]))\n",
    "print(np.mean(df[attr]))"
   ]
  },
  {
   "cell_type": "code",
   "execution_count": 10,
   "metadata": {
    "collapsed": true
   },
   "outputs": [],
   "source": [
    "#使用平均值填补缺失数据\n",
    "mean_ = np.mean(df[attr])\n",
    "df.iloc[miss_index, attr] = mean_"
   ]
  },
  {
   "cell_type": "code",
   "execution_count": 11,
   "metadata": {
    "collapsed": true
   },
   "outputs": [],
   "source": [
    "#计算平均相对误差\n",
    "def print_error(value, true_value, method):\n",
    "    error = true_value - value\n",
    "    rel_error = np.abs(error / true_value)\n",
    "    mean_rel_error = np.mean(rel_error)\n",
    "    print(\"各缺失值的相对误差\")\n",
    "    print(\"序号\\t相对误差\")\n",
    "    print(rel_error)\n",
    "    print(\"使用%s填补缺失值的平均相对误差为%d%%\" %(method, mean_rel_error*100))"
   ]
  },
  {
   "cell_type": "code",
   "execution_count": 12,
   "metadata": {},
   "outputs": [
    {
     "name": "stdout",
     "output_type": "stream",
     "text": [
      "各缺失值的相对误差\n",
      "序号\t相对误差\n",
      "128    0.689048\n",
      "129    0.164861\n",
      "53     0.647852\n",
      "134    0.274753\n",
      "68     0.689048\n",
      "180    0.176074\n",
      "150    0.337628\n",
      "165    0.825998\n",
      "71     0.055655\n",
      "125    0.535498\n",
      "Name: 6, dtype: float64\n",
      "使用平均值法填补缺失值的平均相对误差为43%\n"
     ]
    }
   ],
   "source": [
    "print_error(mean_, true_value, \"平均值法\")"
   ]
  },
  {
   "cell_type": "code",
   "execution_count": 13,
   "metadata": {
    "collapsed": true
   },
   "outputs": [],
   "source": [
    "#重置缺失值\n",
    "df.iloc[miss_index, attr] = np.nan"
   ]
  },
  {
   "cell_type": "code",
   "execution_count": 14,
   "metadata": {
    "collapsed": true
   },
   "outputs": [],
   "source": [
    "df_miss = df.loc[miss_index]\n",
    "df_mr = df.drop(miss_index, axis=0)\n",
    "miss = df_miss "
   ]
  },
  {
   "cell_type": "code",
   "execution_count": 15,
   "metadata": {
    "collapsed": true
   },
   "outputs": [],
   "source": [
    "miss_no_attr = df_miss.drop(attr, axis=1)\n",
    "mr_no_attr = df_mr.drop(attr, axis=1)"
   ]
  },
  {
   "cell_type": "code",
   "execution_count": 16,
   "metadata": {
    "collapsed": true
   },
   "outputs": [],
   "source": [
    "knn_value = true_value.copy()\n",
    "for idx in miss_index:\n",
    "    d = mr_no_attr - miss_no_attr.loc[idx]\n",
    "    d = np.square(d)\n",
    "    d = np.sum(d, axis=1)\n"
   ]
  },
  {
   "cell_type": "code",
   "execution_count": 44,
   "metadata": {},
   "outputs": [
    {
     "name": "stdout",
     "output_type": "stream",
     "text": [
      "各缺失值的相对误差\n",
      "序号\t相对误差\n",
      "128    0.337500\n",
      "129    0.077586\n",
      "53     0.304878\n",
      "134    0.009434\n",
      "68     0.337500\n",
      "180    0.347561\n",
      "150    0.475490\n",
      "165    0.445946\n",
      "71     0.164062\n",
      "125    0.215909\n",
      "Name: 6, dtype: float64\n",
      "使用K-邻近补缺算法填补缺失值的平均相对误差为27%\n"
     ]
    }
   ],
   "source": [
    "d1 = d.sort_values()\n",
    "k = 4\n",
    "d1 = d1[:k]\n",
    "v = np.mean(df_mr.iloc[d1.index.tolist(), attr])\n",
    "print_error(v, true_value, \"K-邻近补缺算法\")"
   ]
  },
  {
   "cell_type": "markdown",
   "metadata": {},
   "source": [
    "# 加权的K-邻近补缺算法暂时不写，下面先实现EM算法"
   ]
  },
  {
   "cell_type": "markdown",
   "metadata": {},
   "source": [
    "可观测到的样本X={X1, X2，……, Xn}和不可观测到的样本Z={Z1, Z2，……, Zn}组成的，则Y = X∪Z。"
   ]
  },
  {
   "cell_type": "code",
   "execution_count": 18,
   "metadata": {
    "collapsed": true
   },
   "outputs": [],
   "source": [
    "X = df_miss\n",
    "Z = df_mr\n",
    "Y = df"
   ]
  },
  {
   "cell_type": "code",
   "execution_count": 94,
   "metadata": {},
   "outputs": [],
   "source": [
    "from scipy.stats import multivariate_normal as mvn\n",
    "def em_gmm(xs, pis, mus, sigmas, tol=0.01, max_iter=100):\n",
    "\n",
    "    n, p = xs.shape\n",
    "    k = len(pis)\n",
    "\n",
    "    ll_old = 0\n",
    "    for _ in range(max_iter):\n",
    "        exp_A = []\n",
    "        exp_B = []\n",
    "        ll_new = 0\n",
    "\n",
    "        # E-step\n",
    "        ws = np.zeros((k, n))\n",
    "        for j in range(k):\n",
    "            for i in range(n):\n",
    "                ws[j, i] = pis[j] * mvn(mus[j], sigmas[j]).pdf(xs[i])\n",
    "        ws /= ws.sum(0)\n",
    "\n",
    "        # M-step\n",
    "        pis = np.zeros(k)\n",
    "        for j in range(k):\n",
    "            for i in range(n):\n",
    "                pis[j] += ws[j, i]\n",
    "        pis /= n\n",
    "\n",
    "        mus = np.zeros((k, p))\n",
    "        for j in range(k):\n",
    "            for i in range(n):\n",
    "                mus[j] += ws[j, i] * xs[i]\n",
    "            mus[j] /= ws[j, :].sum()\n",
    "\n",
    "        sigmas = np.zeros((k, p, p))\n",
    "        for j in range(k):\n",
    "            for i in range(n):\n",
    "                ys = np.reshape(xs[i]- mus[j], (4,1))\n",
    "                sigmas[j] += ws[j, i] * np.dot(ys, ys.T)\n",
    "            sigmas[j] /= ws[j,:].sum()\n",
    "\n",
    "        # update complete log likelihoood\n",
    "        ll_new = 0.0\n",
    "        for i in range(n):\n",
    "            s = 0\n",
    "            for j in range(k):\n",
    "                s += pis[j] * mvn(mus[j], sigmas[j]).pdf(xs[i])\n",
    "            ll_new += np.log(s)\n",
    "\n",
    "        if np.abs(ll_new - ll_old) < tol:\n",
    "            break\n",
    "        ll_old = ll_new\n",
    "\n",
    "    return ws, pis, mus, sigmas"
   ]
  },
  {
   "cell_type": "markdown",
   "metadata": {},
   "source": [
    "## 选取2，3，4，5列进行聚类，主要是考虑到太多属性需要初始化的参数太多"
   ]
  },
  {
   "cell_type": "code",
   "execution_count": 49,
   "metadata": {},
   "outputs": [
    {
     "data": {
      "text/plain": [
       "(218, 4)"
      ]
     },
     "execution_count": 49,
     "metadata": {},
     "output_type": "execute_result"
    }
   ],
   "source": [
    "idx_gmm = list(range(2,6))\n",
    "df_gmm = df[idx_gmm]\n",
    "df_gmm.shape"
   ]
  },
  {
   "cell_type": "markdown",
   "metadata": {},
   "source": [
    "### 共218个样本，4个特征，所以n=218，假设GMM由5个高斯分布混合成，则mu的维度应为(5,4)，sigma的维度应为(5,4),\n",
    "### pi的维度应为(5,)"
   ]
  },
  {
   "cell_type": "code",
   "execution_count": 118,
   "metadata": {},
   "outputs": [],
   "source": [
    "#Initial the parameters\n",
    "n = 218\n",
    "_shape = (5, df_gmm.shape[1])\n",
    "_mus = np.random.random(_shape)\n",
    "_sigmas = np.random.random(_shape)\n",
    "_pis = np.random.random(_shape[0])\n",
    "_pis = _pis / np.sum(_pis)\n",
    "xs = np.array(df_gmm)"
   ]
  },
  {
   "cell_type": "code",
   "execution_count": 117,
   "metadata": {},
   "outputs": [
    {
     "name": "stdout",
     "output_type": "stream",
     "text": [
      "[  59.41743119  165.16055046   59.76885321  119.17220183]\n",
      "[[  59.41743119  165.16055046   59.76885321  119.17220183]\n",
      " [  59.41743119  165.16055046   59.76885321  119.17220183]\n",
      " [  59.41743119  165.16055046   59.76885321  119.17220183]\n",
      " [  59.41743119  165.16055046   59.76885321  119.17220183]\n",
      " [  59.41743119  165.16055046   59.76885321  119.17220183]]\n"
     ]
    }
   ],
   "source": [
    "a = np.array(np.mean(df_gmm))\n",
    "\n",
    "a1=np.stack((a,a,a,a,a), axis=0)\n",
    "print(a)\n",
    "print(a1)"
   ]
  },
  {
   "cell_type": "code",
   "execution_count": 119,
   "metadata": {},
   "outputs": [
    {
     "name": "stderr",
     "output_type": "stream",
     "text": [
      "C:\\Users\\40712\\Anaconda3\\lib\\site-packages\\ipykernel_launcher.py:18: RuntimeWarning: invalid value encountered in true_divide\n"
     ]
    },
    {
     "ename": "ValueError",
     "evalue": "array must not contain infs or NaNs",
     "traceback": [
      "\u001b[1;31m---------------------------------------------------------------------------\u001b[0m",
      "\u001b[1;31mValueError\u001b[0m                                Traceback (most recent call last)",
      "\u001b[1;32m<ipython-input-119-41136e2f2fdf>\u001b[0m in \u001b[0;36m<module>\u001b[1;34m()\u001b[0m\n\u001b[1;32m----> 1\u001b[1;33m \u001b[0mws\u001b[0m\u001b[1;33m,\u001b[0m \u001b[0mpis\u001b[0m\u001b[1;33m,\u001b[0m \u001b[0mmus\u001b[0m\u001b[1;33m,\u001b[0m \u001b[0msigmas\u001b[0m \u001b[1;33m=\u001b[0m \u001b[0mem_gmm\u001b[0m\u001b[1;33m(\u001b[0m\u001b[0mnp\u001b[0m\u001b[1;33m.\u001b[0m\u001b[0marray\u001b[0m\u001b[1;33m(\u001b[0m\u001b[0mdf_gmm\u001b[0m\u001b[1;33m)\u001b[0m\u001b[1;33m,\u001b[0m \u001b[0m_pis\u001b[0m\u001b[1;33m,\u001b[0m \u001b[0m_mus\u001b[0m\u001b[1;33m,\u001b[0m \u001b[0m_sigmas\u001b[0m\u001b[1;33m,\u001b[0m \u001b[0mtol\u001b[0m\u001b[1;33m=\u001b[0m\u001b[1;36m0.01\u001b[0m\u001b[1;33m,\u001b[0m \u001b[0mmax_iter\u001b[0m\u001b[1;33m=\u001b[0m\u001b[1;36m100\u001b[0m\u001b[1;33m)\u001b[0m\u001b[1;33m\u001b[0m\u001b[0m\n\u001b[0m",
      "\u001b[1;32m<ipython-input-94-891a400db2b5>\u001b[0m in \u001b[0;36mem_gmm\u001b[1;34m(xs, pis, mus, sigmas, tol, max_iter)\u001b[0m\n\u001b[0;32m     43\u001b[0m             \u001b[0ms\u001b[0m \u001b[1;33m=\u001b[0m \u001b[1;36m0\u001b[0m\u001b[1;33m\u001b[0m\u001b[0m\n\u001b[0;32m     44\u001b[0m             \u001b[1;32mfor\u001b[0m \u001b[0mj\u001b[0m \u001b[1;32min\u001b[0m \u001b[0mrange\u001b[0m\u001b[1;33m(\u001b[0m\u001b[0mk\u001b[0m\u001b[1;33m)\u001b[0m\u001b[1;33m:\u001b[0m\u001b[1;33m\u001b[0m\u001b[0m\n\u001b[1;32m---> 45\u001b[1;33m                 \u001b[0ms\u001b[0m \u001b[1;33m+=\u001b[0m \u001b[0mpis\u001b[0m\u001b[1;33m[\u001b[0m\u001b[0mj\u001b[0m\u001b[1;33m]\u001b[0m \u001b[1;33m*\u001b[0m \u001b[0mmvn\u001b[0m\u001b[1;33m(\u001b[0m\u001b[0mmus\u001b[0m\u001b[1;33m[\u001b[0m\u001b[0mj\u001b[0m\u001b[1;33m]\u001b[0m\u001b[1;33m,\u001b[0m \u001b[0msigmas\u001b[0m\u001b[1;33m[\u001b[0m\u001b[0mj\u001b[0m\u001b[1;33m]\u001b[0m\u001b[1;33m)\u001b[0m\u001b[1;33m.\u001b[0m\u001b[0mpdf\u001b[0m\u001b[1;33m(\u001b[0m\u001b[0mxs\u001b[0m\u001b[1;33m[\u001b[0m\u001b[0mi\u001b[0m\u001b[1;33m]\u001b[0m\u001b[1;33m)\u001b[0m\u001b[1;33m\u001b[0m\u001b[0m\n\u001b[0m\u001b[0;32m     46\u001b[0m             \u001b[0mll_new\u001b[0m \u001b[1;33m+=\u001b[0m \u001b[0mnp\u001b[0m\u001b[1;33m.\u001b[0m\u001b[0mlog\u001b[0m\u001b[1;33m(\u001b[0m\u001b[0ms\u001b[0m\u001b[1;33m)\u001b[0m\u001b[1;33m\u001b[0m\u001b[0m\n\u001b[0;32m     47\u001b[0m \u001b[1;33m\u001b[0m\u001b[0m\n",
      "\u001b[1;32m~\\Anaconda3\\lib\\site-packages\\scipy\\stats\\_multivariate.py\u001b[0m in \u001b[0;36m__call__\u001b[1;34m(self, mean, cov, allow_singular, seed)\u001b[0m\n\u001b[0;32m    349\u001b[0m         return multivariate_normal_frozen(mean, cov,\n\u001b[0;32m    350\u001b[0m                                           \u001b[0mallow_singular\u001b[0m\u001b[1;33m=\u001b[0m\u001b[0mallow_singular\u001b[0m\u001b[1;33m,\u001b[0m\u001b[1;33m\u001b[0m\u001b[0m\n\u001b[1;32m--> 351\u001b[1;33m                                           seed=seed)\n\u001b[0m\u001b[0;32m    352\u001b[0m \u001b[1;33m\u001b[0m\u001b[0m\n\u001b[0;32m    353\u001b[0m     \u001b[1;32mdef\u001b[0m \u001b[0m_process_parameters\u001b[0m\u001b[1;33m(\u001b[0m\u001b[0mself\u001b[0m\u001b[1;33m,\u001b[0m \u001b[0mdim\u001b[0m\u001b[1;33m,\u001b[0m \u001b[0mmean\u001b[0m\u001b[1;33m,\u001b[0m \u001b[0mcov\u001b[0m\u001b[1;33m)\u001b[0m\u001b[1;33m:\u001b[0m\u001b[1;33m\u001b[0m\u001b[0m\n",
      "\u001b[1;32m~\\Anaconda3\\lib\\site-packages\\scipy\\stats\\_multivariate.py\u001b[0m in \u001b[0;36m__init__\u001b[1;34m(self, mean, cov, allow_singular, seed)\u001b[0m\n\u001b[0;32m    599\u001b[0m         self.dim, self.mean, self.cov = self._dist._process_parameters(\n\u001b[0;32m    600\u001b[0m                                                             None, mean, cov)\n\u001b[1;32m--> 601\u001b[1;33m         \u001b[0mself\u001b[0m\u001b[1;33m.\u001b[0m\u001b[0mcov_info\u001b[0m \u001b[1;33m=\u001b[0m \u001b[0m_PSD\u001b[0m\u001b[1;33m(\u001b[0m\u001b[0mself\u001b[0m\u001b[1;33m.\u001b[0m\u001b[0mcov\u001b[0m\u001b[1;33m,\u001b[0m \u001b[0mallow_singular\u001b[0m\u001b[1;33m=\u001b[0m\u001b[0mallow_singular\u001b[0m\u001b[1;33m)\u001b[0m\u001b[1;33m\u001b[0m\u001b[0m\n\u001b[0m\u001b[0;32m    602\u001b[0m \u001b[1;33m\u001b[0m\u001b[0m\n\u001b[0;32m    603\u001b[0m     \u001b[1;32mdef\u001b[0m \u001b[0mlogpdf\u001b[0m\u001b[1;33m(\u001b[0m\u001b[0mself\u001b[0m\u001b[1;33m,\u001b[0m \u001b[0mx\u001b[0m\u001b[1;33m)\u001b[0m\u001b[1;33m:\u001b[0m\u001b[1;33m\u001b[0m\u001b[0m\n",
      "\u001b[1;32m~\\Anaconda3\\lib\\site-packages\\scipy\\stats\\_multivariate.py\u001b[0m in \u001b[0;36m__init__\u001b[1;34m(self, M, cond, rcond, lower, check_finite, allow_singular)\u001b[0m\n\u001b[0;32m    148\u001b[0m         \u001b[1;31m# Note that eigh takes care of array conversion, chkfinite,\u001b[0m\u001b[1;33m\u001b[0m\u001b[1;33m\u001b[0m\u001b[0m\n\u001b[0;32m    149\u001b[0m         \u001b[1;31m# and assertion that the matrix is square.\u001b[0m\u001b[1;33m\u001b[0m\u001b[1;33m\u001b[0m\u001b[0m\n\u001b[1;32m--> 150\u001b[1;33m         \u001b[0ms\u001b[0m\u001b[1;33m,\u001b[0m \u001b[0mu\u001b[0m \u001b[1;33m=\u001b[0m \u001b[0mscipy\u001b[0m\u001b[1;33m.\u001b[0m\u001b[0mlinalg\u001b[0m\u001b[1;33m.\u001b[0m\u001b[0meigh\u001b[0m\u001b[1;33m(\u001b[0m\u001b[0mM\u001b[0m\u001b[1;33m,\u001b[0m \u001b[0mlower\u001b[0m\u001b[1;33m=\u001b[0m\u001b[0mlower\u001b[0m\u001b[1;33m,\u001b[0m \u001b[0mcheck_finite\u001b[0m\u001b[1;33m=\u001b[0m\u001b[0mcheck_finite\u001b[0m\u001b[1;33m)\u001b[0m\u001b[1;33m\u001b[0m\u001b[0m\n\u001b[0m\u001b[0;32m    151\u001b[0m \u001b[1;33m\u001b[0m\u001b[0m\n\u001b[0;32m    152\u001b[0m         \u001b[0meps\u001b[0m \u001b[1;33m=\u001b[0m \u001b[0m_eigvalsh_to_eps\u001b[0m\u001b[1;33m(\u001b[0m\u001b[0ms\u001b[0m\u001b[1;33m,\u001b[0m \u001b[0mcond\u001b[0m\u001b[1;33m,\u001b[0m \u001b[0mrcond\u001b[0m\u001b[1;33m)\u001b[0m\u001b[1;33m\u001b[0m\u001b[0m\n",
      "\u001b[1;32m~\\Anaconda3\\lib\\site-packages\\scipy\\linalg\\decomp.py\u001b[0m in \u001b[0;36meigh\u001b[1;34m(a, b, lower, eigvals_only, overwrite_a, overwrite_b, turbo, eigvals, type, check_finite)\u001b[0m\n\u001b[0;32m    325\u001b[0m \u001b[1;33m\u001b[0m\u001b[0m\n\u001b[0;32m    326\u001b[0m     \"\"\"\n\u001b[1;32m--> 327\u001b[1;33m     \u001b[0ma1\u001b[0m \u001b[1;33m=\u001b[0m \u001b[0m_asarray_validated\u001b[0m\u001b[1;33m(\u001b[0m\u001b[0ma\u001b[0m\u001b[1;33m,\u001b[0m \u001b[0mcheck_finite\u001b[0m\u001b[1;33m=\u001b[0m\u001b[0mcheck_finite\u001b[0m\u001b[1;33m)\u001b[0m\u001b[1;33m\u001b[0m\u001b[0m\n\u001b[0m\u001b[0;32m    328\u001b[0m     \u001b[1;32mif\u001b[0m \u001b[0mlen\u001b[0m\u001b[1;33m(\u001b[0m\u001b[0ma1\u001b[0m\u001b[1;33m.\u001b[0m\u001b[0mshape\u001b[0m\u001b[1;33m)\u001b[0m \u001b[1;33m!=\u001b[0m \u001b[1;36m2\u001b[0m \u001b[1;32mor\u001b[0m \u001b[0ma1\u001b[0m\u001b[1;33m.\u001b[0m\u001b[0mshape\u001b[0m\u001b[1;33m[\u001b[0m\u001b[1;36m0\u001b[0m\u001b[1;33m]\u001b[0m \u001b[1;33m!=\u001b[0m \u001b[0ma1\u001b[0m\u001b[1;33m.\u001b[0m\u001b[0mshape\u001b[0m\u001b[1;33m[\u001b[0m\u001b[1;36m1\u001b[0m\u001b[1;33m]\u001b[0m\u001b[1;33m:\u001b[0m\u001b[1;33m\u001b[0m\u001b[0m\n\u001b[0;32m    329\u001b[0m         \u001b[1;32mraise\u001b[0m \u001b[0mValueError\u001b[0m\u001b[1;33m(\u001b[0m\u001b[1;34m'expected square matrix'\u001b[0m\u001b[1;33m)\u001b[0m\u001b[1;33m\u001b[0m\u001b[0m\n",
      "\u001b[1;32m~\\Anaconda3\\lib\\site-packages\\scipy\\_lib\\_util.py\u001b[0m in \u001b[0;36m_asarray_validated\u001b[1;34m(a, check_finite, sparse_ok, objects_ok, mask_ok, as_inexact)\u001b[0m\n\u001b[0;32m    236\u001b[0m             \u001b[1;32mraise\u001b[0m \u001b[0mValueError\u001b[0m\u001b[1;33m(\u001b[0m\u001b[1;34m'masked arrays are not supported'\u001b[0m\u001b[1;33m)\u001b[0m\u001b[1;33m\u001b[0m\u001b[0m\n\u001b[0;32m    237\u001b[0m     \u001b[0mtoarray\u001b[0m \u001b[1;33m=\u001b[0m \u001b[0mnp\u001b[0m\u001b[1;33m.\u001b[0m\u001b[0masarray_chkfinite\u001b[0m \u001b[1;32mif\u001b[0m \u001b[0mcheck_finite\u001b[0m \u001b[1;32melse\u001b[0m \u001b[0mnp\u001b[0m\u001b[1;33m.\u001b[0m\u001b[0masarray\u001b[0m\u001b[1;33m\u001b[0m\u001b[0m\n\u001b[1;32m--> 238\u001b[1;33m     \u001b[0ma\u001b[0m \u001b[1;33m=\u001b[0m \u001b[0mtoarray\u001b[0m\u001b[1;33m(\u001b[0m\u001b[0ma\u001b[0m\u001b[1;33m)\u001b[0m\u001b[1;33m\u001b[0m\u001b[0m\n\u001b[0m\u001b[0;32m    239\u001b[0m     \u001b[1;32mif\u001b[0m \u001b[1;32mnot\u001b[0m \u001b[0mobjects_ok\u001b[0m\u001b[1;33m:\u001b[0m\u001b[1;33m\u001b[0m\u001b[0m\n\u001b[0;32m    240\u001b[0m         \u001b[1;32mif\u001b[0m \u001b[0ma\u001b[0m\u001b[1;33m.\u001b[0m\u001b[0mdtype\u001b[0m \u001b[1;32mis\u001b[0m \u001b[0mnp\u001b[0m\u001b[1;33m.\u001b[0m\u001b[0mdtype\u001b[0m\u001b[1;33m(\u001b[0m\u001b[1;34m'O'\u001b[0m\u001b[1;33m)\u001b[0m\u001b[1;33m:\u001b[0m\u001b[1;33m\u001b[0m\u001b[0m\n",
      "\u001b[1;32m~\\Anaconda3\\lib\\site-packages\\numpy\\lib\\function_base.py\u001b[0m in \u001b[0;36masarray_chkfinite\u001b[1;34m(a, dtype, order)\u001b[0m\n\u001b[0;32m   1213\u001b[0m     \u001b[1;32mif\u001b[0m \u001b[0ma\u001b[0m\u001b[1;33m.\u001b[0m\u001b[0mdtype\u001b[0m\u001b[1;33m.\u001b[0m\u001b[0mchar\u001b[0m \u001b[1;32min\u001b[0m \u001b[0mtypecodes\u001b[0m\u001b[1;33m[\u001b[0m\u001b[1;34m'AllFloat'\u001b[0m\u001b[1;33m]\u001b[0m \u001b[1;32mand\u001b[0m \u001b[1;32mnot\u001b[0m \u001b[0mnp\u001b[0m\u001b[1;33m.\u001b[0m\u001b[0misfinite\u001b[0m\u001b[1;33m(\u001b[0m\u001b[0ma\u001b[0m\u001b[1;33m)\u001b[0m\u001b[1;33m.\u001b[0m\u001b[0mall\u001b[0m\u001b[1;33m(\u001b[0m\u001b[1;33m)\u001b[0m\u001b[1;33m:\u001b[0m\u001b[1;33m\u001b[0m\u001b[0m\n\u001b[0;32m   1214\u001b[0m         raise ValueError(\n\u001b[1;32m-> 1215\u001b[1;33m             \"array must not contain infs or NaNs\")\n\u001b[0m\u001b[0;32m   1216\u001b[0m     \u001b[1;32mreturn\u001b[0m \u001b[0ma\u001b[0m\u001b[1;33m\u001b[0m\u001b[0m\n\u001b[0;32m   1217\u001b[0m \u001b[1;33m\u001b[0m\u001b[0m\n",
      "\u001b[1;31mValueError\u001b[0m: array must not contain infs or NaNs"
     ],
     "output_type": "error"
    }
   ],
   "source": [
    "ws, pis, mus, sigmas = em_gmm(np.array(df_gmm), _pis, _mus, _sigmas, tol=0.01, max_iter=100)\n"
   ]
  },
  {
   "cell_type": "code",
   "execution_count": 61,
   "metadata": {},
   "outputs": [
    {
     "data": {
      "text/plain": [
       "array([[  66.  ,  180.  ,   64.  ,  125.75],\n",
       "       [  66.  ,  180.  ,   67.25,  131.75],\n",
       "       [  66.  ,  180.  ,   70.  ,  129.75],\n",
       "       [  66.  ,  180.  ,   62.5 ,  125.5 ],\n",
       "       [  66.  ,  180.  ,   61.75,  122.5 ],\n",
       "       [  66.  ,  180.  ,   60.5 ,  122.  ],\n",
       "       [  53.  ,  172.  ,   68.  ,  132.5 ],\n",
       "       [  53.  ,  172.  ,   71.  ,  143.  ],\n",
       "       [  53.  ,  172.  ,   71.5 ,  146.  ],\n",
       "       [  53.  ,  172.  ,   76.  ,  156.  ],\n",
       "       [  53.  ,  172.  ,   77.5 ,  154.5 ],\n",
       "       [  53.  ,  172.  ,   81.  ,  167.  ],\n",
       "       [  50.  ,  163.  ,   66.  ,  132.  ],\n",
       "       [  50.  ,  163.  ,   60.75,  118.25],\n",
       "       [  50.  ,  163.  ,   61.5 ,  122.25],\n",
       "       [  49.  ,  158.  ,   40.83,   79.5 ],\n",
       "       [  49.  ,  158.  ,   50.25,  101.5 ],\n",
       "       [  74.  ,  177.  ,   77.5 ,  156.  ],\n",
       "       [  74.  ,  177.  ,   78.  ,  154.  ],\n",
       "       [  51.  ,  157.  ,   58.5 ,  118.5 ],\n",
       "       [  51.  ,  157.  ,   55.5 ,  111.75],\n",
       "       [  51.  ,  157.  ,   57.  ,  117.  ],\n",
       "       [  50.  ,  160.  ,   48.5 ,   96.  ],\n",
       "       [  50.  ,  160.  ,   50.25,   99.25],\n",
       "       [  50.  ,  160.  ,   51.25,  104.  ],\n",
       "       [  70.  ,  174.  ,   63.25,  125.  ],\n",
       "       [  70.  ,  174.  ,   62.  ,  125.75],\n",
       "       [  70.  ,  174.  ,   67.75,  139.75],\n",
       "       [  70.  ,  174.  ,   66.25,  130.5 ],\n",
       "       [  70.  ,  174.  ,   48.5 ,   98.75],\n",
       "       [  52.  ,  164.  ,   52.25,  107.75],\n",
       "       [  52.  ,  164.  ,   55.5 ,  115.  ],\n",
       "       [  52.  ,  164.  ,   61.25,  127.25],\n",
       "       [  52.  ,  164.  ,   62.75,  128.5 ],\n",
       "       [  59.  ,  168.  ,   51.25,  102.5 ],\n",
       "       [  59.  ,  168.  ,   54.75,  107.5 ],\n",
       "       [  59.  ,  168.  ,   59.5 ,  118.75],\n",
       "       [  59.  ,  168.  ,   69.  ,  134.  ],\n",
       "       [  59.  ,  168.  ,   64.75,  124.  ],\n",
       "       [  68.  ,  174.  ,   59.5 ,  111.75],\n",
       "       [  68.  ,  174.  ,   63.5 ,  128.25],\n",
       "       [  68.  ,  174.  ,   74.5 ,  146.5 ],\n",
       "       [  68.  ,  174.  ,   71.  ,  141.5 ],\n",
       "       [  68.  ,  172.  ,   55.5 ,  112.75],\n",
       "       [  68.  ,  172.  ,   60.  ,  119.25],\n",
       "       [  68.  ,  172.  ,   62.5 ,  124.75],\n",
       "       [  52.  ,  162.  ,   56.75,  112.5 ],\n",
       "       [  52.  ,  162.  ,   54.25,  105.25],\n",
       "       [  52.  ,  162.  ,   54.75,  109.25],\n",
       "       [  52.  ,  162.  ,   63.5 ,  125.5 ],\n",
       "       [  52.  ,  162.  ,   61.75,  123.75],\n",
       "       [  52.  ,  162.  ,   62.25,  118.75],\n",
       "       [  54.  ,  160.  ,   57.  ,  112.5 ],\n",
       "       [  54.  ,  160.  ,   56.  ,  115.5 ],\n",
       "       [  54.  ,  160.  ,   54.  ,  111.25],\n",
       "       [  54.  ,  160.  ,   67.  ,  133.  ],\n",
       "       [  54.  ,  160.  ,   62.  ,  125.5 ],\n",
       "       [  54.  ,  160.  ,   60.25,  120.  ],\n",
       "       [  59.  ,  163.  ,   62.25,  124.5 ],\n",
       "       [  59.  ,  163.  ,   64.5 ,  129.  ],\n",
       "       [  59.  ,  163.  ,   73.  ,  142.  ],\n",
       "       [  59.  ,  163.  ,   69.  ,  137.5 ],\n",
       "       [  65.  ,  170.  ,   63.  ,  120.  ],\n",
       "       [  65.  ,  170.  ,   64.25,  122.5 ],\n",
       "       [  65.  ,  170.  ,   59.75,  117.25],\n",
       "       [  65.  ,  170.  ,   75.  ,  150.  ],\n",
       "       [  65.  ,  170.  ,   76.  ,  149.  ],\n",
       "       [  65.  ,  170.  ,   70.  ,  141.5 ],\n",
       "       [  52.  ,  158.  ,   56.75,  110.5 ],\n",
       "       [  52.  ,  158.  ,   59.  ,  111.25],\n",
       "       [  52.  ,  158.  ,   56.  ,  114.  ],\n",
       "       [  52.  ,  158.  ,   64.  ,  124.5 ],\n",
       "       [  52.  ,  158.  ,   61.  ,  118.  ],\n",
       "       [  52.  ,  158.  ,   65.  ,  124.  ],\n",
       "       [  64.  ,  160.  ,   58.75,  119.5 ],\n",
       "       [  64.  ,  160.  ,   59.  ,  122.  ],\n",
       "       [  64.  ,  160.  ,   61.  ,  120.5 ],\n",
       "       [  53.  ,  160.  ,   56.25,  118.5 ],\n",
       "       [  53.  ,  160.  ,   61.5 ,  127.5 ],\n",
       "       [  53.  ,  160.  ,   65.  ,  133.  ],\n",
       "       [  64.  ,  170.  ,   54.75,  108.25],\n",
       "       [  64.  ,  170.  ,   54.  ,  106.75],\n",
       "       [  64.  ,  170.  ,   53.25,  106.  ],\n",
       "       [  65.  ,  174.  ,   66.  ,  135.  ],\n",
       "       [  65.  ,  174.  ,   76.5 ,  149.  ],\n",
       "       [  66.  ,  158.  ,   46.5 ,   91.75],\n",
       "       [  66.  ,  158.  ,   44.5 ,   88.75],\n",
       "       [  66.  ,  158.  ,   45.75,   98.5 ],\n",
       "       [  66.  ,  158.  ,   44.75,   94.75],\n",
       "       [  52.  ,  162.  ,   53.  ,  113.25],\n",
       "       [  52.  ,  162.  ,   57.5 ,  113.  ],\n",
       "       [  52.  ,  162.  ,   63.5 ,  125.25],\n",
       "       [  46.  ,  162.  ,   52.25,  106.25],\n",
       "       [  46.  ,  162.  ,   48.  ,   94.75],\n",
       "       [  46.  ,  162.  ,   52.75,  103.5 ],\n",
       "       [  70.  ,  166.  ,   60.25,  114.5 ],\n",
       "       [  70.  ,  166.  ,   59.  ,  116.  ],\n",
       "       [  70.  ,  166.  ,   52.25,  104.5 ],\n",
       "       [  70.  ,  166.  ,   56.  ,  109.5 ],\n",
       "       [  70.  ,  170.  ,   61.  ,  120.  ],\n",
       "       [  70.  ,  170.  ,   64.  ,  125.  ],\n",
       "       [  70.  ,  170.  ,   59.75,  118.  ],\n",
       "       [  52.  ,  155.  ,   59.5 ,  121.  ],\n",
       "       [  52.  ,  155.  ,   62.  ,  123.5 ],\n",
       "       [  52.  ,  155.  ,   62.5 ,  122.  ],\n",
       "       [  44.  ,  156.  ,   59.  ,  116.  ],\n",
       "       [  44.  ,  156.  ,   58.75,  119.75],\n",
       "       [  44.  ,  156.  ,   61.25,  124.75],\n",
       "       [  72.  ,  167.  ,   64.  ,  130.5 ],\n",
       "       [  72.  ,  167.  ,   68.  ,  138.  ],\n",
       "       [  72.  ,  167.  ,   66.  ,  135.5 ],\n",
       "       [  55.  ,  167.  ,   52.5 ,  105.  ],\n",
       "       [  55.  ,  167.  ,   56.75,  111.25],\n",
       "       [  55.  ,  167.  ,   55.5 ,  112.  ],\n",
       "       [  70.  ,  163.  ,   59.  ,  122.5 ],\n",
       "       [  70.  ,  163.  ,   59.75,  121.5 ],\n",
       "       [  70.  ,  163.  ,   58.75,  122.75],\n",
       "       [  69.  ,  175.  ,   61.5 ,  112.75],\n",
       "       [  69.  ,  175.  ,   56.5 ,  112.25],\n",
       "       [  69.  ,  175.  ,   57.25,  115.  ],\n",
       "       [  70.  ,  157.  ,   62.75,  120.5 ],\n",
       "       [  70.  ,  157.  ,   60.  ,  121.  ],\n",
       "       [  50.  ,  162.  ,   56.5 ,  112.75],\n",
       "       [  50.  ,  162.  ,   58.5 ,  120.  ],\n",
       "       [  50.  ,  162.  ,   56.5 ,  113.75],\n",
       "       [  55.  ,  168.  ,   59.  ,  117.  ],\n",
       "       [  55.  ,  168.  ,   60.25,  118.  ],\n",
       "       [  49.  ,  163.  ,   51.5 ,  102.5 ],\n",
       "       [  49.  ,  163.  ,   51.  ,  102.75],\n",
       "       [  49.  ,  163.  ,   55.25,  110.25],\n",
       "       [  50.  ,  159.  ,   58.75,  118.75],\n",
       "       [  50.  ,  159.  ,   57.5 ,  114.25],\n",
       "       [  70.  ,  167.  ,   61.25,  122.  ],\n",
       "       [  70.  ,  167.  ,   57.75,  116.5 ],\n",
       "       [  62.  ,  178.  ,   68.25,  136.75],\n",
       "       [  62.  ,  178.  ,   71.  ,  135.5 ],\n",
       "       [  62.  ,  178.  ,   75.  ,  140.5 ],\n",
       "       [  62.  ,  178.  ,   69.  ,  135.  ],\n",
       "       [  62.  ,  178.  ,   68.5 ,  136.5 ],\n",
       "       [  65.  ,  171.  ,   58.  ,  118.  ],\n",
       "       [  65.  ,  171.  ,   54.75,  112.5 ],\n",
       "       [  65.  ,  171.  ,   56.25,  111.75],\n",
       "       [  10.  ,  158.  ,   57.75,  116.5 ],\n",
       "       [  10.  ,  158.  ,   50.  ,   98.  ],\n",
       "       [  10.  ,  158.  ,   45.75,   93.  ],\n",
       "       [  50.  ,  156.  ,   51.  ,   99.5 ],\n",
       "       [  50.  ,  156.  ,   55.  ,  104.5 ],\n",
       "       [  50.  ,  156.  ,   50.75,  105.5 ],\n",
       "       [  70.  ,  160.  ,   55.25,  108.5 ],\n",
       "       [  70.  ,  160.  ,   52.75,   99.75],\n",
       "       [  70.  ,  160.  ,   48.25,  101.5 ],\n",
       "       [  53.  ,  172.  ,   73.5 ,  144.5 ],\n",
       "       [  53.  ,  172.  ,   65.5 ,  130.25],\n",
       "       [  53.  ,  172.  ,   82.5 ,  174.  ],\n",
       "       [  53.  ,  172.  ,   61.75,  123.75],\n",
       "       [  53.  ,  172.  ,   27.2 ,   54.7 ],\n",
       "       [  53.  ,  172.  ,   80.  ,  168.5 ],\n",
       "       [  53.  ,  172.  ,   57.75,  117.75],\n",
       "       [  50.  ,  165.  ,   56.25,  106.25],\n",
       "       [  50.  ,  165.  ,   60.25,  116.25],\n",
       "       [  58.  ,  150.  ,   53.75,  105.  ],\n",
       "       [  58.  ,  150.  ,   55.5 ,  109.25],\n",
       "       [  56.  ,  154.  ,   55.25,  106.25],\n",
       "       [  56.  ,  154.  ,   52.25,  104.5 ],\n",
       "       [  56.  ,  154.  ,   51.25,  103.25],\n",
       "       [  49.  ,  147.  ,   58.  ,  113.5 ],\n",
       "       [  49.  ,  147.  ,   53.75,  107.  ],\n",
       "       [  49.  ,  147.  ,   57.  ,  111.75],\n",
       "       [  51.  ,  154.  ,   52.  ,  105.75],\n",
       "       [  51.  ,  154.  ,   49.5 ,  101.5 ],\n",
       "       [  51.  ,  154.  ,   50.  ,   96.75],\n",
       "       [  70.  ,  176.  ,   37.  ,   67.17],\n",
       "       [  55.  ,  152.  ,   51.  ,  102.75],\n",
       "       [  55.  ,  152.  ,   55.5 ,  111.75],\n",
       "       [  55.  ,  152.  ,   54.25,  108.75],\n",
       "       [  70.  ,  176.  ,   72.  ,  147.  ],\n",
       "       [  70.  ,  176.  ,   72.  ,  146.  ],\n",
       "       [  70.  ,  176.  ,   69.  ,  142.5 ],\n",
       "       [  70.  ,  165.  ,   51.25,   96.  ],\n",
       "       [  70.  ,  165.  ,   56.25,  105.75],\n",
       "       [  70.  ,  165.  ,   51.5 ,  105.  ],\n",
       "       [  58.  ,  156.  ,   51.  ,  101.  ],\n",
       "       [  58.  ,  156.  ,   51.25,  102.5 ],\n",
       "       [  58.  ,  156.  ,   50.25,  100.25],\n",
       "       [  75.  ,  156.  ,   54.25,  113.75],\n",
       "       [  75.  ,  156.  ,   55.  ,  110.  ],\n",
       "       [  65.  ,  164.  ,   59.5 ,  114.5 ],\n",
       "       [  65.  ,  164.  ,   58.75,  113.5 ],\n",
       "       [  81.  ,  170.  ,   51.25,  109.  ],\n",
       "       [  81.  ,  170.  ,   54.75,  108.75],\n",
       "       [  81.  ,  170.  ,   54.  ,  112.  ],\n",
       "       [  93.  ,  185.  ,   78.  ,  151.5 ],\n",
       "       [  93.  ,  185.  ,   78.  ,  154.  ],\n",
       "       [  63.  ,  152.  ,   50.  ,   97.25],\n",
       "       [  63.  ,  152.  ,   52.  ,  102.5 ],\n",
       "       [  63.  ,  152.  ,   51.75,  101.5 ],\n",
       "       [  65.  ,  180.  ,   72.  ,  138.75],\n",
       "       [  65.  ,  180.  ,   70.75,  140.25],\n",
       "       [  65.  ,  180.  ,   83.5 ,  158.5 ],\n",
       "       [  50.  ,  157.  ,   58.5 ,  118.5 ],\n",
       "       [  50.  ,  157.  ,   59.  ,  119.  ],\n",
       "       [  50.  ,  157.  ,   67.5 ,  133.  ],\n",
       "       [  70.  ,  174.  ,   63.5 ,  128.75],\n",
       "       [  70.  ,  174.  ,   61.25,  128.75],\n",
       "       [  70.  ,  174.  ,   60.  ,  123.75],\n",
       "       [  70.  ,  174.  ,   63.  ,  135.  ],\n",
       "       [  50.  ,  163.  ,   54.25,  113.  ],\n",
       "       [  50.  ,  163.  ,   60.75,  121.  ],\n",
       "       [  50.  ,  163.  ,   68.  ,  136.5 ],\n",
       "       [  71.  ,  175.  ,   65.5 ,  129.  ],\n",
       "       [  71.  ,  175.  ,   58.75,  117.25],\n",
       "       [  71.  ,  175.  ,   58.  ,  115.  ],\n",
       "       [  71.  ,  175.  ,   79.  ,  148.  ],\n",
       "       [  71.  ,  175.  ,   68.  ,  139.  ],\n",
       "       [  71.  ,  175.  ,   64.  ,  131.5 ],\n",
       "       [  55.  ,  154.  ,   47.  ,   93.25],\n",
       "       [  55.  ,  154.  ,   47.33,   95.67],\n",
       "       [  55.  ,  154.  ,   48.5 ,   94.25]])"
      ]
     },
     "execution_count": 61,
     "metadata": {},
     "output_type": "execute_result"
    }
   ],
   "source": [
    "np.array(df_gmm)"
   ]
  },
  {
   "cell_type": "code",
   "execution_count": 27,
   "metadata": {},
   "outputs": [
    {
     "data": {
      "text/plain": [
       "array([[ 1.67689766,  4.92395945],\n",
       "       [-2.18947366,  4.40885556],\n",
       "       [ 0.07317587,  3.04278779],\n",
       "       [ 0.87739551,  4.33482605],\n",
       "       [ 0.65223875,  5.36323088],\n",
       "       [ 0.90642396,  3.01294716],\n",
       "       [ 0.32507405,  4.95406967],\n",
       "       [-1.04267383,  3.12154895],\n",
       "       [ 2.75127973,  4.66708046],\n",
       "       [ 1.46081383,  4.01597148]])"
      ]
     },
     "execution_count": 27,
     "metadata": {},
     "output_type": "execute_result"
    }
   ],
   "source": [
    "xs[:10]"
   ]
  }
 ],
 "metadata": {
  "kernelspec": {
   "display_name": "Python 3",
   "language": "python",
   "name": "python3"
  },
  "language_info": {
   "codemirror_mode": {
    "name": "ipython",
    "version": 3
   },
   "file_extension": ".py",
   "mimetype": "text/x-python",
   "name": "python",
   "nbconvert_exporter": "python",
   "pygments_lexer": "ipython3",
   "version": "3.6.2"
  }
 },
 "nbformat": 4,
 "nbformat_minor": 2
}
